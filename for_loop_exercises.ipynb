{
  "nbformat": 4,
  "nbformat_minor": 0,
  "metadata": {
    "colab": {
      "provenance": [],
      "authorship_tag": "ABX9TyPPQG1EyN9r4a/aIu/e2Qg6",
      "include_colab_link": true
    },
    "kernelspec": {
      "name": "python3",
      "display_name": "Python 3"
    },
    "language_info": {
      "name": "python"
    }
  },
  "cells": [
    {
      "cell_type": "markdown",
      "metadata": {
        "id": "view-in-github",
        "colab_type": "text"
      },
      "source": [
        "<a href=\"https://colab.research.google.com/github/kemal8/Python_A-Z/blob/main/for_loop_exercises.ipynb\" target=\"_parent\"><img src=\"https://colab.research.google.com/assets/colab-badge.svg\" alt=\"Open In Colab\"/></a>"
      ]
    },
    {
      "cell_type": "markdown",
      "source": [
        "**Exercise 1: Print numbers from 1 to 10 using a for loop.**"
      ],
      "metadata": {
        "id": "vP4439sJizGW"
      }
    },
    {
      "cell_type": "code",
      "source": [
        "for i in range(1,11):\n",
        "  print (i)"
      ],
      "metadata": {
        "colab": {
          "base_uri": "https://localhost:8080/"
        },
        "id": "U3OfkkFei6vu",
        "outputId": "d289990c-debe-4266-d7a7-8f6cae4a7305"
      },
      "execution_count": 2,
      "outputs": [
        {
          "output_type": "stream",
          "name": "stdout",
          "text": [
            "1\n",
            "2\n",
            "3\n",
            "4\n",
            "5\n",
            "6\n",
            "7\n",
            "8\n",
            "9\n",
            "10\n"
          ]
        }
      ]
    },
    {
      "cell_type": "markdown",
      "source": [
        "**Exercise 2: Calculate the sum of all numbers from 1 to 100 using a for loop.**"
      ],
      "metadata": {
        "id": "lE09scnCjX8q"
      }
    },
    {
      "cell_type": "code",
      "source": [],
      "metadata": {
        "id": "FleMLYKDjN2c"
      },
      "execution_count": null,
      "outputs": []
    }
  ]
}